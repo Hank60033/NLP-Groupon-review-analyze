{
 "cells": [
  {
   "cell_type": "markdown",
   "metadata": {},
   "source": [
    "# Web Scraping\n",
    "\n",
    "The data comes from Groupon website. We want to do the sentiment analysis on the reviews of the wine bar. Firstly, we found fifteen sample bars near New Jersey and scraped the 'date', 'description', 'user', 'rating' of the bar and the number of the reviews and ratings from each customer. "
   ]
  },
  {
   "cell_type": "code",
   "execution_count": 1,
   "metadata": {},
   "outputs": [],
   "source": [
    "import requests\n",
    "from bs4 import BeautifulSoup \n",
    "import pandas as pd\n",
    "import matplotlib.pyplot as plt\n",
    "import numpy as np\n",
    "from selenium import webdriver\n",
    "from selenium.webdriver.common.by import By\n",
    "from selenium.webdriver.support.ui import WebDriverWait\n",
    "from selenium.webdriver.support import expected_conditions \n",
    "import time\n",
    "\n",
    "data=[]\n",
    "divs=[]\n",
    "executable_path = '/usr/local/bin/geckodriver'\n",
    "driver = webdriver.Firefox(executable_path=executable_path)\n",
    "driver.implicitly_wait(10)\n",
    "driver.get(\"https://www.groupon.com/deals/flute-bar-1\")\n",
    "\n",
    "#see all reviews\n",
    "\n",
    "try:\n",
    "    all_reviews=driver.find_element_by_css_selector(\"#all-tips-link\")\n",
    "    all_reviews.click()\n",
    "except:\n",
    "    all_reviews=driver.find_element_by_css_selector(\"#nothx\")\n",
    "    all_reviews.click()\n",
    "    time.sleep(2)\n",
    "    all_reviews=driver.find_element_by_css_selector(\"#all-tips-link\")\n",
    "    all_reviews.click()\n",
    "\n",
    "\n",
    "#get the number of pages\n",
    "#elements return list, add [].text to extract content\n",
    "pages=driver.find_elements_by_css_selector(\"#all-tips div.tip-pagination ul.tip-pagination-links a.tip-pagination-link.number\")\n",
    "page_num=int(pages[-1].text)\n",
    "\n",
    "#get the content of the first page\n",
    "soup = BeautifulSoup(driver.page_source, 'html.parser')\n",
    "divs.append(soup.select('#all-tips div.tip-widget-tips div.tip-body'))\n",
    "\n",
    "#get the content of the rest pages by loop\n",
    "for i in range(page_num-1):\n",
    "    nextp=driver.find_element_by_css_selector(\"#all-tips div.tip-pagination ul.tip-pagination-links a.tip-pagination-link.next-link \")\n",
    "    nextp.click()\n",
    "    time.sleep(2)        \n",
    "    soup = BeautifulSoup(driver.page_source, 'html.parser')\n",
    "    divs.append(soup.select('#all-tips div.tip-widget-tips div.tip-body'))\n",
    "    \n",
    "driver.quit() \n",
    "    \n",
    "for i in range(page_num):\n",
    "    for idx,div in enumerate(divs[i]):\n",
    "\n",
    "        date=None\n",
    "        description=None\n",
    "        user=None\n",
    "        rating=None\n",
    "        rating_count=None\n",
    "        reviews_count=None\n",
    "        #collect date\n",
    "        date1=div.select('div.twelve.columns.ratings-date span.reviewer-reviewed-date')\n",
    "        if date1!=[]:\n",
    "            date=date1[0].get_text()\n",
    "        #collect reviews description\n",
    "        description1=div.select('div.twelve.columns.tip-text')\n",
    "        if description1!=[]:\n",
    "            description=description1[0].get_text().strip()\n",
    "        #collect user name\n",
    "        user1=div.select('span.tips-reviewer-name')\n",
    "        if user1!=[]:\n",
    "            user=user1[0].get_text()\n",
    "        #collect rating star,count how many full-star valued class span to get rate\n",
    "        rating1=div.select('div.twelve.columns.ratings-date ul.product-histogram-rating span.full-star')\n",
    "        rating=len(rating1)\n",
    "        #collect user's rating count\n",
    "        rating_count1=div.select('div.user-stats span.reviewer-review-count')\n",
    "        if rating_count1!=[]:\n",
    "            rating_count=int(rating_count1[0].get_text().split()[0])\n",
    "        #collect user's reviews count\n",
    "        reviews_count1=div.select('div.user-stats span.reviewer-review-count')\n",
    "        if reviews_count1!=[]:\n",
    "            reviews_count=int(reviews_count1[1].get_text().split()[0])\n",
    "        #print(reviews_count1[1].get_text().split()[0])\n",
    "        #append into tuple       \n",
    "        data.append((date,description,user,rating,rating_count,reviews_count))\n",
    "\n",
    "\n",
    "\n"
   ]
  },
  {
   "cell_type": "markdown",
   "metadata": {},
   "source": [
    "We converted the data from dataframe to the csv files."
   ]
  },
  {
   "cell_type": "code",
   "execution_count": 91,
   "metadata": {},
   "outputs": [],
   "source": [
    "import csv\n",
    "import pandas as pd \n",
    "data_resource=list(data)\n",
    "data_resource=pd.DataFrame(data_resource,columns=[\"Date\",\"Description\",\"Name\",\"Reting\",\"rating_count\",\"reviews_count\"])\n",
    "data_resource.to_csv(\"/Users/hankchen/Desktop/semester2/660/final_project/wine bar/24.csv\", sep=',',index=False)\n"
   ]
  },
  {
   "cell_type": "code",
   "execution_count": null,
   "metadata": {},
   "outputs": [],
   "source": []
  }
 ],
 "metadata": {
  "kernelspec": {
   "display_name": "Python 3",
   "language": "python",
   "name": "python3"
  },
  "language_info": {
   "codemirror_mode": {
    "name": "ipython",
    "version": 3
   },
   "file_extension": ".py",
   "mimetype": "text/x-python",
   "name": "python",
   "nbconvert_exporter": "python",
   "pygments_lexer": "ipython3",
   "version": "3.6.6"
  }
 },
 "nbformat": 4,
 "nbformat_minor": 2
}
